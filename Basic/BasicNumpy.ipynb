{
 "cells": [
  {
   "cell_type": "markdown",
   "metadata": {},
   "source": [
    "# Numpy基础杂记\n",
    "\n",
    "> 本文并不会详细记录其条目，只会记录一些需要用到的代码以及平时使用numpy时候的一些例子等等"
   ]
  },
  {
   "cell_type": "markdown",
   "metadata": {},
   "source": [
    "## 一、Numpy概述\n",
    "> numpy（Numerical Python）提供了python对多维数组对象的支持：ndarray，具有矢量运算能力，快速、节省空间。numpy支持高级大量的维度数组与矩阵运算，此外也针对数组运算提供大量的数学函数库。"
   ]
  },
  {
   "cell_type": "markdown",
   "metadata": {},
   "source": [
    "## 二、创建ndarray数组\n",
    "ndarray:Nw维数组对象，所有元素必须是相同类型\n",
    "具有的属性：\n",
    "1. ndim属性，表示维度个数\n",
    "2. shape 属性,表示各个维度大小\n",
    "3. dtype属性，表示数据类型。"
   ]
  },
  {
   "cell_type": "code",
   "execution_count": 2,
   "metadata": {},
   "outputs": [
    {
     "name": "stdout",
     "output_type": "stream",
     "text": [
      "使用列表生成一维数组\n",
      "[1 2 3 4 5 6]\n",
      "int64\n",
      "使用列表生成二维数组\n",
      "[[1 2]\n",
      " [3 4]\n",
      " [5 6]]\n",
      "2\n",
      "(3, 2)\n",
      "使用zero/ones/empty创建数组:根据shape来创建\n",
      "[ 0.  0.  0.  0.  0.  0.]\n",
      "[[ 0.  0.  0.]\n",
      " [ 0.  0.  0.]]\n",
      "[[ 1.  1.  1.]\n",
      " [ 1.  1.  1.]]\n",
      "[[  6.92827850e-310   1.71278884e-316   6.92826654e-310]\n",
      " [  6.92826654e-310   6.92826656e-310   6.92826654e-310]\n",
      " [  6.92826654e-310   6.92826654e-310   3.95252517e-322]]\n",
      "使用arrange生成连续元素\n",
      "[0 1 2 3 4 5]\n",
      "[0 2 4]\n"
     ]
    }
   ],
   "source": [
    "import numpy as np # 一般是表示np\n",
    "\n",
    "print('使用列表生成一维数组')\n",
    "data = [1,2,3,4,5,6]\n",
    "x = np.array(data)\n",
    "print(x) #打印数组\n",
    "print(x.dtype) #打印数组元素的类型\n",
    "\n",
    "print('使用列表生成二维数组')\n",
    "data = [[1,2],[3,4],[5,6]]\n",
    "x = np.array(data)\n",
    "print(x) #打印数组\n",
    "print(x.ndim) #打印数组的维度\n",
    "print(x.shape) #打印数组各个维度的长度。shape是一个元组\n",
    "\n",
    "print('使用zero/ones/empty创建数组:根据shape来创建')\n",
    "x = np.zeros(6) #创建一维长度为6的，元素都是0一维数组\n",
    "print(x)\n",
    "x = np.zeros((2,3)) #创建一维长度为2，二维长度为3的二维0数组\n",
    "print(x)\n",
    "x = np.ones((2,3)) #创建一维长度为2，二维长度为3的二维1数组\n",
    "print(x)\n",
    "x = np.empty((3,3)) #创建一维长度为2，二维长度为3,未初始化的二维数组\n",
    "print(x)\n",
    "\n",
    "print('使用arrange生成连续元素')\n",
    "print(np.arange(6)) # [0,1,2,3,4,5,] 开区间\n",
    "print(np.arange(0,6,2))  # [0, 2，4]"
   ]
  },
  {
   "cell_type": "markdown",
   "metadata": {},
   "source": [
    "## 三、指定ndarray数组元素的类型\n",
    "基本上就是我们常用的类型\n",
    "看一下例子吧："
   ]
  },
  {
   "cell_type": "code",
   "execution_count": 3,
   "metadata": {},
   "outputs": [
    {
     "name": "stdout",
     "output_type": "stream",
     "text": [
      "生成指定元素类型的数组:设置dtype属性\n",
      "[1 2 3]\n",
      "int64\n",
      "[ 1.  2.  3.]\n",
      "float64\n",
      "使用astype复制数组，并转换类型\n",
      "[1 2 3]\n",
      "[ 1.   2.6  3. ]\n",
      "[ 1.  2.  3.]\n",
      "将字符串元素转换为数值元素\n",
      "[b'1' b'2' b'3']\n",
      "[1 2 3]\n",
      "使用其他数组的数据类型作为参数\n",
      "[0 1 2]\n",
      "[ 0.  1.  2.]\n"
     ]
    }
   ],
   "source": [
    "import numpy as np\n",
    "\n",
    "print('生成指定元素类型的数组:设置dtype属性')\n",
    "x = np.array([1,2.6,3],dtype = np.int64)\n",
    "print(x) # 元素类型为int64\n",
    "print(x.dtype)\n",
    "x = np.array([1,2,3],dtype = np.float64)\n",
    "print(x) # 元素类型为float64\n",
    "print(x.dtype)\n",
    "\n",
    "print('使用astype复制数组，并转换类型')\n",
    "x = np.array([1,2.6,3],dtype = np.float64)\n",
    "y = x.astype(np.int32)\n",
    "print(y) # [1 2 3]\n",
    "print(x) # [ 1.   2.6  3. ]\n",
    "z = y.astype(np.float64)\n",
    "print(z) # [ 1.  2.  3.]\n",
    "\n",
    "print('将字符串元素转换为数值元素')\n",
    "x = np.array(['1','2','3'],dtype = np.string_)\n",
    "y = x.astype(np.int32)\n",
    "print(x) # ['1' '2' '3']\n",
    "print(y) # [1 2 3] 若转换失败会抛出异常\n",
    "\n",
    "print('使用其他数组的数据类型作为参数')\n",
    "x = np.array([ 1., 2.6,3. ],dtype = np.float32)\n",
    "y = np.arange(3,dtype=np.int32)\n",
    "print(y) # [0 1 2]\n",
    "print(y.astype(x.dtype)) # [ 0.  1.  2.]"
   ]
  },
  {
   "cell_type": "markdown",
   "metadata": {},
   "source": [
    "## 四、ndarray的矢量化计算\n",
    "矢量运算：相同大小的数组键间的运算应用在元素上 \n",
    "矢量和标量运算：“广播”— 将标量“广播”到各个元素"
   ]
  },
  {
   "cell_type": "code",
   "execution_count": 4,
   "metadata": {},
   "outputs": [
    {
     "name": "stdout",
     "output_type": "stream",
     "text": [
      "ndarray数组与标量/数组的运算\n",
      "[2 4 6]\n",
      "[False False  True]\n",
      "[4 6 8]\n",
      "[False False False]\n"
     ]
    }
   ],
   "source": [
    "import numpy as np\n",
    "\n",
    "print('ndarray数组与标量/数组的运算')\n",
    "x = np.array([1,2,3])\n",
    "print(x*2) # [2 4 6]\n",
    "print(x>2) # [False False  True]\n",
    "y = np.array([3,4,5])\n",
    "print(x+y) # [4 6 8]\n",
    "print(x>y) # [False False False]"
   ]
  },
  {
   "cell_type": "markdown",
   "metadata": {},
   "source": [
    "## 五、ndarray数组的基本索引和切片\n",
    "一维数组的索引：与Python的列表索引功能相似\n",
    "\n",
    "多维数组的索引：\n",
    "* arr[l1:r1,l2:r2]\n",
    "* arr[1,1]等价于arr\\[1\\][1]\n",
    "* [:]代表某个维度的数据\n",
    "\n",
    "代码实例："
   ]
  },
  {
   "cell_type": "code",
   "execution_count": 5,
   "metadata": {},
   "outputs": [
    {
     "name": "stdout",
     "output_type": "stream",
     "text": [
      "ndarray的基本索引\n",
      "[1 2]\n",
      "2\n",
      "2\n",
      "[[1 2]\n",
      " [3 4]]\n",
      "[[1 2]\n",
      " [3 4]]\n",
      "1\n",
      "[[0 2]\n",
      " [3 4]]\n",
      "[[-1  2]\n",
      " [ 3  4]]\n",
      "[[-1  2]\n",
      " [ 3  4]]\n",
      "ndarray的切片\n",
      "[2 3]\n",
      "[1 2 3]\n",
      "[2 3 4 5]\n",
      "[1 3]\n",
      "[[1 2]\n",
      " [3 4]]\n",
      "[[1]\n",
      " [3]]\n",
      "[[0 2]\n",
      " [0 4]\n",
      " [5 6]]\n",
      "[[8 2]\n",
      " [6 4]\n",
      " [5 6]]\n"
     ]
    }
   ],
   "source": [
    "import numpy\n",
    "\n",
    "print('ndarray的基本索引')\n",
    "x = numpy.array([[1,2],[3,4],[5,6]])\n",
    "print(x[0]) # [1,2]\n",
    "print(x[0][1]) # 2,普通python数组的索引\n",
    "print(x[0,1])# 同x[0][1]，ndarray数组的索引\n",
    "x = numpy.array([[[1, 2], [3,4]], [[5, 6], [7,8]]])\n",
    "print(x[0]) # [[1 2],[3 4]]\n",
    "y = x[0].copy() # 生成一个副本\n",
    "z = x[0] # 未生成一个副本\n",
    "print(y) #  [[1 2],[3 4]]\n",
    "print(y[0,0]) # 1\n",
    "y[0,0] = 0\n",
    "z[0,0] = -1\n",
    "print(y) # [[0 2],[3 4]]\n",
    "print(x[0]) # [[-1 2],[3 4]]\n",
    "print(z) # [[-1 2],[3 4]]\n",
    "\n",
    "print('ndarray的切片')\n",
    "x = numpy.array([1,2,3,4,5])\n",
    "print(x[1:3]) # [2,3] 右边开区间\n",
    "print(x[:3]) # [1,2,3] 左边默认为 0\n",
    "print(x[1:]) # [2,3,4,5] 右边默认为元素个数\n",
    "print(x[0:4:2]) # [1,3] 下标递增2\n",
    "x = numpy.array([[1,2],[3,4],[5,6]])\n",
    "print(x[:2]) # [[1 2],[3 4]]\n",
    "print(x[:2,:1]) # [[1],[3]]\n",
    "x[:2,:1] = 0 # 用标量赋值\n",
    "print(x) # [[0,2],[0,4],[5,6]]\n",
    "x[:2,:1] = [[8],[6]] # 用数组赋值\n",
    "print(x) # [[8,2],[6,4],[5,6]]"
   ]
  },
  {
   "cell_type": "markdown",
   "metadata": {},
   "source": [
    "## 六、ndarray数组的布尔索引和花式索引\n",
    "布尔索引：使用布尔数组作为索引。arr[condition]，condition为一个条件/多个条件组成的布尔数组。\n",
    "\n",
    "布尔型索引代码示例："
   ]
  },
  {
   "cell_type": "code",
   "execution_count": null,
   "metadata": {
    "collapsed": true
   },
   "outputs": [],
   "source": []
  }
 ],
 "metadata": {
  "kernelspec": {
   "display_name": "Python 3",
   "language": "python",
   "name": "python3"
  },
  "language_info": {
   "codemirror_mode": {
    "name": "ipython",
    "version": 3
   },
   "file_extension": ".py",
   "mimetype": "text/x-python",
   "name": "python",
   "nbconvert_exporter": "python",
   "pygments_lexer": "ipython3",
   "version": "3.6.2"
  }
 },
 "nbformat": 4,
 "nbformat_minor": 2
}
