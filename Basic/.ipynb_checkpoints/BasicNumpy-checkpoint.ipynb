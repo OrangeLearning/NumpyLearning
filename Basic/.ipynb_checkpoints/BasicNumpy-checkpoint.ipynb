{
 "cells": [
  {
   "cell_type": "markdown",
   "metadata": {},
   "source": [
    "# Numpy基础杂记\n",
    "\n",
    "> 本文并不会详细记录其条目，只会记录一些需要用到的代码以及平时使用numpy时候的一些例子等等"
   ]
  },
  {
   "cell_type": "markdown",
   "metadata": {},
   "source": [
    "## 一、Numpy概述\n",
    "> numpy（Numerical Python）提供了python对多维数组对象的支持：ndarray，具有矢量运算能力，快速、节省空间。numpy支持高级大量的维度数组与矩阵运算，此外也针对数组运算提供大量的数学函数库。"
   ]
  },
  {
   "cell_type": "markdown",
   "metadata": {},
   "source": [
    "## 二、创建ndarray数组\n",
    "ndarray:Nw维数组对象，所有元素必须是相同类型\n",
    "具有的属性：\n",
    "1. ndim属性，表示维度个数\n",
    "2. shape 属性,表示各个维度大小\n",
    "3. dtype属性，表示数据类型。"
   ]
  },
  {
   "cell_type": "code",
   "execution_count": 1,
   "metadata": {},
   "outputs": [
    {
     "ename": "SyntaxError",
     "evalue": "Missing parentheses in call to 'print' (<ipython-input-1-b1d16df3b66b>, line 2)",
     "output_type": "error",
     "traceback": [
      "\u001b[0;36m  File \u001b[0;32m\"<ipython-input-1-b1d16df3b66b>\"\u001b[0;36m, line \u001b[0;32m2\u001b[0m\n\u001b[0;31m    print '使用列表生成一维数组'\u001b[0m\n\u001b[0m                     ^\u001b[0m\n\u001b[0;31mSyntaxError\u001b[0m\u001b[0;31m:\u001b[0m Missing parentheses in call to 'print'\n"
     ]
    }
   ],
   "source": [
    "import numpy as np # 一般是表示np\n",
    "\n",
    "print '使用列表生成一维数组'\n",
    "data = [1,2,3,4,5,6]\n",
    "x = numpy.array(data)\n",
    "print x #打印数组\n",
    "print x.dtype #打印数组元素的类型\n",
    "\n",
    "print '使用列表生成二维数组'\n",
    "data = [[1,2],[3,4],[5,6]]\n",
    "x = numpy.array(data)\n",
    "print x #打印数组\n",
    "print x.ndim #打印数组的维度\n",
    "print x.shape #打印数组各个维度的长度。shape是一个元组\n",
    "\n",
    "print '使用zero/ones/empty创建数组:根据shape来创建'\n",
    "x = numpy.zeros(6) #创建一维长度为6的，元素都是0一维数组\n",
    "print x\n",
    "x = numpy.zeros((2,3)) #创建一维长度为2，二维长度为3的二维0数组\n",
    "print x\n",
    "x = numpy.ones((2,3)) #创建一维长度为2，二维长度为3的二维1数组\n",
    "print x\n",
    "x = numpy.empty((3,3)) #创建一维长度为2，二维长度为3,未初始化的二维数组\n",
    "print x\n",
    "\n",
    "print '使用arrange生成连续元素'\n",
    "print numpy.arange(6) # [0,1,2,3,4,5,] 开区间\n",
    "print numpy.arange(0,6,2)  # [0, 2，4]"
   ]
  },
  {
   "cell_type": "code",
   "execution_count": null,
   "metadata": {
    "collapsed": true
   },
   "outputs": [],
   "source": []
  }
 ],
 "metadata": {
  "kernelspec": {
   "display_name": "Python 3",
   "language": "python",
   "name": "python3"
  },
  "language_info": {
   "codemirror_mode": {
    "name": "ipython",
    "version": 3
   },
   "file_extension": ".py",
   "mimetype": "text/x-python",
   "name": "python",
   "nbconvert_exporter": "python",
   "pygments_lexer": "ipython3",
   "version": "3.6.2"
  }
 },
 "nbformat": 4,
 "nbformat_minor": 2
}
